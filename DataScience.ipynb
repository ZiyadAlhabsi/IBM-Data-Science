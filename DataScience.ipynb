{
 "cells": [
  {
   "cell_type": "markdown",
   "id": "a553705b-e46f-4b33-b646-db8341e5e876",
   "metadata": {},
   "source": [
    "# Data Science Notebook"
   ]
  },
  {
   "cell_type": "markdown",
   "id": "4e361ada-a023-4cc7-b9b8-e4f1d2814bb4",
   "metadata": {},
   "source": [
    "## This notebook covers basic data science concpets"
   ]
  },
  {
   "cell_type": "markdown",
   "id": "01df5267-7168-4828-8944-509825a811da",
   "metadata": {},
   "source": [
    "## Data Science Languages\n",
    "1. R Language\n",
    "2. Python\n",
    "3. SQL\n",
    "4. Julia"
   ]
  },
  {
   "cell_type": "markdown",
   "id": "64c7eb56-1c26-4c82-bce7-8d60cedf1248",
   "metadata": {},
   "source": [
    "## Data Science Libraries\n",
    "- NumPy\n",
    "- Pandas\n",
    "- Seaborn\n",
    "- Matplotlib\n",
    "- Scikit-Learn"
   ]
  },
  {
   "cell_type": "markdown",
   "id": "3ded99ee-a7b2-4bff-9d26-aaff86d8d8bb",
   "metadata": {},
   "source": [
    "## Data Science Tools\n",
    "| Tool       | Purpose                   |\n",
    "|------------|---------------------------|\n",
    "| Jupyter    | Notebook environment       |\n",
    "| VS Code    | IDE for development        |\n",
    "| GitHub     | Version control            |\n",
    "| Colab      | Cloud-based notebooks      |\n"
   ]
  },
  {
   "cell_type": "markdown",
   "id": "3fa905a2-cafe-4a65-a60f-587accffd2b2",
   "metadata": {},
   "source": [
    "## Arithmetic Expression Examples\n",
    "Examples of basic arithmetic operations in Python.\n"
   ]
  },
  {
   "cell_type": "code",
   "execution_count": 2,
   "id": "8a29481e-57c5-446c-804e-4346fd14eeba",
   "metadata": {},
   "outputs": [
    {
     "data": {
      "text/plain": [
       "49"
      ]
     },
     "execution_count": 2,
     "metadata": {},
     "output_type": "execute_result"
    }
   ],
   "source": [
    "a = 5\n",
    "b = 8\n",
    "result = a * b + 9\n",
    "result"
   ]
  },
  {
   "cell_type": "code",
   "execution_count": 5,
   "id": "63b9c715-5f39-4346-9c40-8055eb7312f3",
   "metadata": {},
   "outputs": [
    {
     "data": {
      "text/plain": [
       "2.5"
      ]
     },
     "execution_count": 5,
     "metadata": {},
     "output_type": "execute_result"
    }
   ],
   "source": [
    "\n",
    "minutes = 150\n",
    "hours = minutes / 60\n",
    "hours"
   ]
  },
  {
   "cell_type": "markdown",
   "id": "6caabb79-f7aa-4d85-9cbe-9d99f84fb6c3",
   "metadata": {},
   "source": [
    "## Objectives\n",
    "- Learn basic Python programming\n",
    "- Understand data science tools and libraries\n",
    "- Practice arithmetic operations\n",
    "- Share notebooks on GitHub\n"
   ]
  },
  {
   "cell_type": "markdown",
   "id": "4a8d5c9a-7fa7-4eea-a2e2-1ec626e9fe3c",
   "metadata": {},
   "source": [
    "## Author's names\n",
    "- Mike Smith\n",
    "- Alice York\n",
    "- Johnathan David"
   ]
  }
 ],
 "metadata": {
  "kernelspec": {
   "display_name": "Python 3 (ipykernel)",
   "language": "python",
   "name": "python3"
  },
  "language_info": {
   "codemirror_mode": {
    "name": "ipython",
    "version": 3
   },
   "file_extension": ".py",
   "mimetype": "text/x-python",
   "name": "python",
   "nbconvert_exporter": "python",
   "pygments_lexer": "ipython3",
   "version": "3.12.11"
  }
 },
 "nbformat": 4,
 "nbformat_minor": 5
}
